{
 "cells": [
  {
   "cell_type": "markdown",
   "metadata": {},
   "source": [
    "DISCLAIMER: Isto não é, sob hipótese alguma, uma recomendação de investimento.\n",
    "A serventia destes algorítmos é apenas para didática.\n",
    "\n",
    "Desenvolvido em:\n",
    "Python 3.8.10 64-bit\n",
    "Desenvolvido por:\n",
    "Fernando Luigi Cunha Dipp\n",
    "Contato:\n",
    "fernando.dipp@gmail.com"
   ]
  },
  {
   "cell_type": "code",
   "execution_count": 30,
   "metadata": {},
   "outputs": [],
   "source": [
    "# Bibliotecas necessárias\n",
    "import requests as requests\n",
    "from bs4 import BeautifulSoup"
   ]
  },
  {
   "cell_type": "code",
   "execution_count": 31,
   "metadata": {},
   "outputs": [
    {
     "data": {
      "text/plain": [
       "<Response [200]>"
      ]
     },
     "execution_count": 31,
     "metadata": {},
     "output_type": "execute_result"
    }
   ],
   "source": [
    "# Site que servirá como fonte para a obtenção dos dados\n",
    "Site = 'https://opcoes.net.br/opcoes/pozinhos'\n",
    "Pagina = requests.request('GET', Site)\n",
    "# Retornando o Http Status da requisição acima\n",
    "Pagina"
   ]
  },
  {
   "cell_type": "code",
   "execution_count": 32,
   "metadata": {},
   "outputs": [],
   "source": [
    "# Fazendo o parse com o Beautifulsoup\n",
    "Coleta = BeautifulSoup(Pagina.text, 'html.parser')\n",
    "# Declarando e inicializando as variáveis da tabela de referência\n",
    "TabelaBody = Coleta.find_all('table', attrs={'id': \"tbl-opcoes-body\"})"
   ]
  },
  {
   "cell_type": "code",
   "execution_count": 33,
   "metadata": {},
   "outputs": [],
   "source": [
    "# Listando as 20 ações com mais liquidções nos últimos 2 meses (FONTE: https://fundamentus.com.br/resultado.php)\n",
    "maisNegociadas= ('VALE','PETR','ELET','ITUB','BBDC','MGLU','PETR','BBAS','PRIO','RENT','B3SA','ABEV','GGBR','HAPV','LREN','SUZB','WEGE','JBSS','BPAC','AMER')"
   ]
  },
  {
   "cell_type": "code",
   "execution_count": 34,
   "metadata": {},
   "outputs": [
    {
     "name": "stdout",
     "output_type": "stream",
     "text": [
      "ABEVT135 -7.3% do strike, negociado a: R$0,03 vencendo em: 19/08/2022\n",
      "ABEVT137 -5.6% do strike, negociado a: R$0,05 vencendo em: 19/08/2022\n",
      "ABEVT138 -9.0% do strike, negociado a: R$0,03 vencendo em: 19/08/2022\n",
      "BBDCT140 -9.8% do strike, negociado a: R$0,04 vencendo em: 19/08/2022\n",
      "BBDCT189 -8.1% do strike, negociado a: R$0,05 vencendo em: 19/08/2022\n",
      "ELETT454 -9.4% do strike, negociado a: R$0,05 vencendo em: 19/08/2022\n",
      "WEGET262 -9.5% do strike, negociado a: R$0,05 vencendo em: 19/08/2022\n"
     ]
    }
   ],
   "source": [
    "# Inicializando uma lista que irá salvar as ações que passaram pelo filtro salvas tipo dicionário (lista de dicionários)\n",
    "opcoesList = []\n",
    "\n",
    "# Varredura dos dados da tabela iterando todos os itens dela\n",
    "for i in range(len(TabelaBody[0].find_all('tr'))):\n",
    "    # Inicializando as variáveis de cada linha\n",
    "    opcao = TabelaBody[0].find_all('tr')[i].find_all('td')[0].text.strip()\n",
    "    tipo = TabelaBody[0].find_all('tr')[i].find_all('td')[1].text.strip()\n",
    "    vencimento = TabelaBody[0].find_all('tr')[i].find_all('td')[2].text.strip()\n",
    "    strike = TabelaBody[0].find_all('tr')[i].find_all('td')[5].text.strip()\n",
    "    distStrikePercent = TabelaBody[0].find_all('tr')[i].find_all('td')[6].text.strip()\n",
    "    distStrikePercent = distStrikePercent.replace(',','.')\n",
    "    distStrikePercent = float(distStrikePercent)\n",
    "    ultimo = TabelaBody[0].find_all('tr')[i].find_all('td')[10].text.strip()\n",
    "    numNegocios = TabelaBody[0].find_all('tr')[i].find_all('td')[15].text.strip()\n",
    "    volFinanceiro = TabelaBody[0].find_all('tr')[i].find_all('td')[16].text.strip()\n",
    "    # Iterando cada item da lista de ações mais negociadas\n",
    "    for j in range(len(maisNegociadas)):\n",
    "        # Comparando com o nome da empresa dona da opção\n",
    "        if maisNegociadas[j] in opcao:\n",
    "            # Adicionando a condição de filtro. No caso \"> -10.0\" está listando apenas as opções que estão entre 0% e -10% do seu respectivo strike\n",
    "            if distStrikePercent > -10.0:\n",
    "                # Caso achado, imprime na tela\n",
    "                print(opcao + ' ' + str(distStrikePercent) + '%'+' do strike, negociado a: R$' + ultimo + ' vencendo em: ' + vencimento)\n",
    "                # Inicializa um novo dicionário\n",
    "                opcoesDict = {\n",
    "                'Ticker': opcao,\n",
    "                'Tipo' : tipo,\n",
    "                'Vencimento' : vencimento,\n",
    "                'Strike' : strike,\n",
    "                'Dist para Strike %' : distStrikePercent,\n",
    "                'Numero de Negocios' : numNegocios,\n",
    "                'Volume Financeiro' : volFinanceiro\n",
    "                }\n",
    "                # Adiciona o novo dicionário à lista declarada no início deste bloco\n",
    "                opcoesList.append(opcoesDict)"
   ]
  },
  {
   "cell_type": "code",
   "execution_count": 35,
   "metadata": {},
   "outputs": [
    {
     "name": "stdout",
     "output_type": "stream",
     "text": [
      "{'Ticker': 'ABEVT135', 'Tipo': 'PUT', 'Vencimento': '19/08/2022', 'Strike': '13,54', 'Dist para Strike %': -7.3, 'Numero de Negocios': '34', 'Volume Financeiro': '9.764,00'}\n",
      "{'Ticker': 'ABEVT137', 'Tipo': 'PUT', 'Vencimento': '19/08/2022', 'Strike': '13,79', 'Dist para Strike %': -5.6, 'Numero de Negocios': '18', 'Volume Financeiro': '3.302,00'}\n",
      "{'Ticker': 'ABEVT138', 'Tipo': 'PUT', 'Vencimento': '19/08/2022', 'Strike': '13,29', 'Dist para Strike %': -9.0, 'Numero de Negocios': '11', 'Volume Financeiro': '437,00'}\n",
      "{'Ticker': 'BBDCT140', 'Tipo': 'PUT', 'Vencimento': '19/08/2022', 'Strike': '13,82', 'Dist para Strike %': -9.8, 'Numero de Negocios': '2', 'Volume Financeiro': '48,00'}\n",
      "{'Ticker': 'BBDCT189', 'Tipo': 'PUT', 'Vencimento': '19/08/2022', 'Strike': '17,00', 'Dist para Strike %': -8.1, 'Numero de Negocios': '683', 'Volume Financeiro': '86.586,82'}\n",
      "{'Ticker': 'ELETT454', 'Tipo': 'PUT', 'Vencimento': '19/08/2022', 'Strike': '45,47', 'Dist para Strike %': -9.4, 'Numero de Negocios': '1', 'Volume Financeiro': '50,00'}\n",
      "{'Ticker': 'WEGET262', 'Tipo': 'PUT', 'Vencimento': '19/08/2022', 'Strike': '26,08', 'Dist para Strike %': -9.5, 'Numero de Negocios': '5', 'Volume Financeiro': '1.508,00'}\n"
     ]
    }
   ],
   "source": [
    "# Imprimindo os dicionários da lista\n",
    "for item in range(len(opcoesList)):\n",
    "    print(opcoesList[item])"
   ]
  }
 ],
 "metadata": {
  "kernelspec": {
   "display_name": "Python 3.8.10 64-bit",
   "language": "python",
   "name": "python3"
  },
  "language_info": {
   "codemirror_mode": {
    "name": "ipython",
    "version": 3
   },
   "file_extension": ".py",
   "mimetype": "text/x-python",
   "name": "python",
   "nbconvert_exporter": "python",
   "pygments_lexer": "ipython3",
   "version": "3.8.10"
  },
  "orig_nbformat": 4,
  "vscode": {
   "interpreter": {
    "hash": "916dbcbb3f70747c44a77c7bcd40155683ae19c65e1c03b4aa3499c5328201f1"
   }
  }
 },
 "nbformat": 4,
 "nbformat_minor": 2
}
