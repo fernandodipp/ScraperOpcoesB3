{
 "cells": [
  {
   "cell_type": "markdown",
   "metadata": {},
   "source": [
    "DISCLAIMER: Isto não é, sob hipótese alguma, uma recomendação de investimento.\n",
    "A serventia destes algorítmos é apenas para didática.\n",
    "\n",
    "Desenvolvido em:\n",
    "Python 3.8.10 64-bit\n",
    "Desenvolvido por:\n",
    "Fernando Luigi Cunha Dipp\n",
    "Contato:\n",
    "fernando.dipp@gmail.com"
   ]
  },
  {
   "cell_type": "code",
   "execution_count": 1,
   "metadata": {},
   "outputs": [],
   "source": [
    "# Bibliotecas necessárias\n",
    "import requests as requests\n",
    "from bs4 import BeautifulSoup"
   ]
  },
  {
   "cell_type": "code",
   "execution_count": 2,
   "metadata": {},
   "outputs": [
    {
     "data": {
      "text/plain": [
       "<Response [200]>"
      ]
     },
     "execution_count": 2,
     "metadata": {},
     "output_type": "execute_result"
    }
   ],
   "source": [
    "# Site que servirá como fonte para a obtenção dos dados\n",
    "Site = 'https://opcoes.net.br/opcoes/pozinhos'\n",
    "Pagina = requests.request('GET', Site)\n",
    "# Retornando o Http Status da requisição acima\n",
    "Pagina"
   ]
  },
  {
   "cell_type": "code",
   "execution_count": 3,
   "metadata": {},
   "outputs": [],
   "source": [
    "# Fazendo o parse com o Beautifulsoup\n",
    "Coleta = BeautifulSoup(Pagina.text, 'html.parser')\n",
    "# Declarando e inicializando as variáveis da tabela de referência\n",
    "TabelaBody = Coleta.find_all('table', attrs={'id': \"tbl-opcoes-body\"})"
   ]
  },
  {
   "cell_type": "code",
   "execution_count": 4,
   "metadata": {},
   "outputs": [],
   "source": [
    "# Listando as 20 ações com mais liquidções nos últimos 2 meses (FONTE: https://fundamentus.com.br/resultado.php)\n",
    "maisNegociadas= ('VALE','PETR','ELET','ITUB','BBDC','MGLU','PETR','BBAS','PRIO','RENT','B3SA','ABEV','GGBR','HAPV','LREN','SUZB','WEGE','JBSS','BPAC','AMER')"
   ]
  },
  {
   "cell_type": "code",
   "execution_count": 5,
   "metadata": {},
   "outputs": [
    {
     "name": "stdout",
     "output_type": "stream",
     "text": [
      "ABEVT135 -8.5% do strike, negociado a: R$0,03 vencendo em: 19/08/2022\n",
      "ABEVT137 -6.8% do strike, negociado a: R$0,03 vencendo em: 19/08/2022\n",
      "BBDCT145 -6.8% do strike, negociado a: R$0,04 vencendo em: 19/08/2022\n",
      "BBDCT189 -8.4% do strike, negociado a: R$0,03 vencendo em: 19/08/2022\n",
      "ITUBT234 -8.6% do strike, negociado a: R$0,05 vencendo em: 19/08/2022\n"
     ]
    }
   ],
   "source": [
    "# Inicializando uma lista que irá salvar as ações que passaram pelo filtro salvas tipo dicionário (lista de dicionários)\n",
    "opcoesList = []\n",
    "\n",
    "# Varredura dos dados da tabela iterando todos os itens dela\n",
    "for i in range(len(TabelaBody[0].find_all('tr'))):\n",
    "    # Inicializando as variáveis de cada linha\n",
    "    opcao = TabelaBody[0].find_all('tr')[i].find_all('td')[0].text.strip()\n",
    "    tipo = TabelaBody[0].find_all('tr')[i].find_all('td')[1].text.strip()\n",
    "    vencimento = TabelaBody[0].find_all('tr')[i].find_all('td')[2].text.strip()\n",
    "    strike = TabelaBody[0].find_all('tr')[i].find_all('td')[5].text.strip()\n",
    "    distStrikePercent = TabelaBody[0].find_all('tr')[i].find_all('td')[6].text.strip()\n",
    "    distStrikePercent = distStrikePercent.replace(',','.')\n",
    "    distStrikePercent = float(distStrikePercent)\n",
    "    ultimo = TabelaBody[0].find_all('tr')[i].find_all('td')[10].text.strip()\n",
    "    numNegocios = TabelaBody[0].find_all('tr')[i].find_all('td')[15].text.strip()\n",
    "    volFinanceiro = TabelaBody[0].find_all('tr')[i].find_all('td')[16].text.strip()\n",
    "    # Iterando cada item da lista de ações mais negociadas\n",
    "    for j in range(len(maisNegociadas)):\n",
    "        # Comparando com o nome da empresa dona da opção\n",
    "        if maisNegociadas[j] in opcao:\n",
    "            # Adicionando a condição de filtro. No caso \"> -10.0\" está listando apenas as opções que estão entre 0% e -10% do seu respectivo strike\n",
    "            if distStrikePercent > -10.0:\n",
    "                # Caso achado, imprime na tela\n",
    "                print(opcao + ' ' + str(distStrikePercent) + '%'+' do strike, negociado a: R$' + ultimo + ' vencendo em: ' + vencimento)\n",
    "                # Inicializa um novo dicionário\n",
    "                opcoesDict = {\n",
    "                'Ticker': opcao,\n",
    "                'Tipo' : tipo,\n",
    "                'Preco' : ultimo,\n",
    "                'Vencimento' : vencimento,\n",
    "                'Strike' : strike,\n",
    "                'Dist para Strike %' : distStrikePercent,\n",
    "                'Numero de Negocios' : numNegocios,\n",
    "                'Volume Financeiro' : volFinanceiro\n",
    "                }\n",
    "                # Adiciona o novo dicionário à lista declarada no início deste bloco\n",
    "                opcoesList.append(opcoesDict)"
   ]
  },
  {
   "cell_type": "code",
   "execution_count": 6,
   "metadata": {},
   "outputs": [
    {
     "name": "stdout",
     "output_type": "stream",
     "text": [
      "{'Ticker': 'ABEVT135', 'Tipo': 'PUT', 'Preco': '0,03', 'Vencimento': '19/08/2022', 'Strike': '13,54', 'Dist para Strike %': -8.5, 'Numero de Negocios': '16', 'Volume Financeiro': '947,00'}\n",
      "{'Ticker': 'ABEVT137', 'Tipo': 'PUT', 'Preco': '0,03', 'Vencimento': '19/08/2022', 'Strike': '13,79', 'Dist para Strike %': -6.8, 'Numero de Negocios': '14', 'Volume Financeiro': '2.722,00'}\n",
      "{'Ticker': 'BBDCT145', 'Tipo': 'PUT', 'Preco': '0,04', 'Vencimento': '19/08/2022', 'Strike': '14,32', 'Dist para Strike %': -6.8, 'Numero de Negocios': '2', 'Volume Financeiro': '134,00'}\n",
      "{'Ticker': 'BBDCT189', 'Tipo': 'PUT', 'Preco': '0,03', 'Vencimento': '19/08/2022', 'Strike': '17,00', 'Dist para Strike %': -8.4, 'Numero de Negocios': '4.858', 'Volume Financeiro': '52.057,88'}\n",
      "{'Ticker': 'ITUBT234', 'Tipo': 'PUT', 'Preco': '0,05', 'Vencimento': '19/08/2022', 'Strike': '23,07', 'Dist para Strike %': -8.6, 'Numero de Negocios': '429', 'Volume Financeiro': '23.560,00'}\n"
     ]
    }
   ],
   "source": [
    "# Imprimindo os dicionários da lista\n",
    "for item in range(len(opcoesList)):\n",
    "    print(opcoesList[item])"
   ]
  },
  {
   "cell_type": "code",
   "execution_count": 7,
   "metadata": {},
   "outputs": [
    {
     "name": "stdout",
     "output_type": "stream",
     "text": [
      "Possível comprar 1600 opções de ABEVT135, com um Break-Even de R$0.04, lucro alvo de R$0.06, tendo um lucro total de R$48.00\n",
      "Possível comprar 1600 opções de ABEVT137, com um Break-Even de R$0.04, lucro alvo de R$0.06, tendo um lucro total de R$48.00\n",
      "Possível comprar 1200 opções de BBDCT145, com um Break-Even de R$0.05, lucro alvo de R$0.08, tendo um lucro total de R$48.00\n",
      "Possível comprar 1600 opções de BBDCT189, com um Break-Even de R$0.04, lucro alvo de R$0.06, tendo um lucro total de R$48.00\n",
      "Possível comprar 1000 opções de ITUBT234, com um Break-Even de R$0.06, lucro alvo de R$0.10, tendo um lucro total de R$50.00\n"
     ]
    }
   ],
   "source": [
    "import math\n",
    "disponivelInvest = 50\n",
    "rentabAlvo = 100 #%\n",
    "corretagem = 0\n",
    "issCorretagem = 0 #%\n",
    "\n",
    "for item in range(len(opcoesList)):\n",
    "    precoOpcao = float(opcoesList[item]['Preco'].replace(',','.'))\n",
    "    qntdMaxCompra = disponivelInvest / precoOpcao\n",
    "    qntdMaxCompra = math.trunc(qntdMaxCompra / 100) * 100\n",
    "    custoTotal = precoOpcao * qntdMaxCompra + (corretagem * (1+(issCorretagem/100)))\n",
    "    breakEven = round((custoTotal + (corretagem * (1 + (issCorretagem / 100))))/qntdMaxCompra + 0.01, 2)\n",
    "    stopGain = round((custoTotal + (corretagem * (1 + (issCorretagem / 100)))+((rentabAlvo / 100)*(precoOpcao*qntdMaxCompra)))/qntdMaxCompra, 2)\n",
    "    lucroLiquido = round(stopGain*qntdMaxCompra-(custoTotal+(corretagem * (1+(issCorretagem/100)))),2)\n",
    "    print('Possível comprar '+str(qntdMaxCompra)+' opções de '+ opcoesList[item]['Ticker'] + ', com um Break-Even de R$' \"%.2f\" %breakEven +\n",
    "    ', lucro alvo de R$'\"%.2f\" %stopGain+', tendo um lucro total de R$'\"%.2f\" %lucroLiquido)"
   ]
  },
  {
   "cell_type": "code",
   "execution_count": 11,
   "metadata": {},
   "outputs": [
    {
     "name": "stdout",
     "output_type": "stream",
     "text": [
      "{'Ticker': 'ABEVT135', 'Strike': '13,54', 'Taxa de Juros': '13,75', 'Data de Ref': '08/08/2022', 'Preco da Acao': '14,80', 'Volatilidade Impl': '34,25', 'Premio Opcao': '0,03'}\n",
      "{'Ticker': 'ABEVT137', 'Strike': '13,79', 'Taxa de Juros': '13,75', 'Data de Ref': '08/08/2022', 'Preco da Acao': '14,80', 'Volatilidade Impl': '28,63', 'Premio Opcao': '0,03'}\n",
      "{'Ticker': 'BBDCT145', 'Strike': '14,32', 'Taxa de Juros': '13,75', 'Data de Ref': '08/08/2022', 'Preco da Acao': '15,36', 'Volatilidade Impl': '29,41', 'Premio Opcao': '0,04'}\n",
      "{'Ticker': 'BBDCT189', 'Strike': '17,00', 'Taxa de Juros': '13,75', 'Data de Ref': '08/08/2022', 'Preco da Acao': '18,56', 'Volatilidade Impl': '32,22', 'Premio Opcao': '0,03'}\n",
      "{'Ticker': 'ITUBT234', 'Strike': '23,07', 'Taxa de Juros': '13,75', 'Data de Ref': '08/08/2022', 'Preco da Acao': '25,24', 'Volatilidade Impl': '34,34', 'Premio Opcao': '0,05'}\n"
     ]
    }
   ],
   "source": [
    "BSList = []\n",
    "for idx in range(len(opcoesList)):\n",
    "    urlBlackScholes = 'https://opcoes.net.br/calculadora-Black-Scholes/' + opcoesList[idx]['Ticker']\n",
    "    blackScholes = requests.get(urlBlackScholes)\n",
    "    blackScholes = BeautifulSoup(blackScholes.text, 'html.parser')\n",
    "    blackScholes = blackScholes.find_all('form', attrs={'id': \"frmCalc\"})\n",
    "    blackScholes = blackScholes[0].find_all('input')\n",
    "    ticker = blackScholes[1]['value']\n",
    "    strike = blackScholes[5]['value']\n",
    "    txJuros = blackScholes[7]['value']\n",
    "    dataRef = blackScholes[9]['value']\n",
    "    precoAcao = blackScholes[13]['value']\n",
    "    volImplicita = blackScholes[15]['value']\n",
    "    premioOpcao = blackScholes[17]['value']\n",
    "    BSDict = {\n",
    "        'Ticker' : ticker,\n",
    "        'Strike' : strike,\n",
    "        'Taxa de Juros' : txJuros,\n",
    "        'Data de Ref' : dataRef,\n",
    "        'Preco da Acao' : precoAcao,\n",
    "        'Volatilidade Impl' : volImplicita,\n",
    "        'Premio Opcao' : premioOpcao\n",
    "        }\n",
    "    BSList.append(BSDict)\n",
    "\n",
    "for item in range(len(BSList)):\n",
    "    print(BSList[item])"
   ]
  }
 ],
 "metadata": {
  "kernelspec": {
   "display_name": "Python 3.8.10 64-bit",
   "language": "python",
   "name": "python3"
  },
  "language_info": {
   "codemirror_mode": {
    "name": "ipython",
    "version": 3
   },
   "file_extension": ".py",
   "mimetype": "text/x-python",
   "name": "python",
   "nbconvert_exporter": "python",
   "pygments_lexer": "ipython3",
   "version": "3.8.10"
  },
  "orig_nbformat": 4,
  "vscode": {
   "interpreter": {
    "hash": "916dbcbb3f70747c44a77c7bcd40155683ae19c65e1c03b4aa3499c5328201f1"
   }
  }
 },
 "nbformat": 4,
 "nbformat_minor": 2
}
